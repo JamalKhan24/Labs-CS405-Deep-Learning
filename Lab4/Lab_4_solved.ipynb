{
  "cells": [
    {
      "cell_type": "markdown",
      "source": [
        "Submitted by\n",
        "\n",
        "Jamal Ahmad Khan (366394) ~ Task 1 + Lab Report\n",
        "\n",
        "Muhammad Hassaan Qaisar (369095) ~ Task 2"
      ],
      "metadata": {
        "id": "FHBBEFDxBDHl"
      }
    },
    {
      "cell_type": "markdown",
      "metadata": {
        "id": "614XA1hVtQqM"
      },
      "source": [
        "## **Lab 4: Hyperparameter Tuning in Neural Network**"
      ]
    },
    {
      "cell_type": "markdown",
      "metadata": {
        "id": "To55fZkl_xXt"
      },
      "source": [
        "Most machine learning workflows involve working with data, creating models, optimizing model parameters, and saving the trained models. This tutorial introduces you to a complete ML workflow implemented in PyTorch covering all these steps."
      ]
    },
    {
      "cell_type": "markdown",
      "metadata": {
        "id": "4T4qCQ9ltQqP"
      },
      "source": [
        "### **Task 1**"
      ]
    },
    {
      "cell_type": "code",
      "execution_count": 1,
      "metadata": {
        "collapsed": true,
        "id": "RkS7oENV_tPJ",
        "jupyter": {
          "outputs_hidden": true
        }
      },
      "outputs": [],
      "source": [
        "import torch\n",
        "from torch import nn\n",
        "from torch.utils.data import DataLoader\n",
        "from torchvision import datasets\n",
        "from torchvision.transforms import ToTensor\n",
        "import matplotlib.pyplot as plt\n",
        "import random\n",
        "import numpy as np"
      ]
    },
    {
      "cell_type": "markdown",
      "metadata": {
        "id": "40DkoQ8grGu1"
      },
      "source": [
        "Check if GPU is available."
      ]
    },
    {
      "cell_type": "code",
      "execution_count": 2,
      "metadata": {
        "id": "jwmL4UIAdEwP",
        "colab": {
          "base_uri": "https://localhost:8080/"
        },
        "outputId": "f2b865eb-477e-4077-d015-5b89d8cb05f6"
      },
      "outputs": [
        {
          "output_type": "stream",
          "name": "stdout",
          "text": [
            "<== CUDA availability : ==> True\n"
          ]
        }
      ],
      "source": [
        "use_cuda = torch.cuda.is_available()\n",
        "device = torch.device(\"cuda\" if use_cuda else \"cpu\")\n",
        "print ('<== CUDA availability : ==>', use_cuda)"
      ]
    },
    {
      "cell_type": "markdown",
      "metadata": {
        "id": "KetqVm4erSUw"
      },
      "source": [
        "Set seed for reproducability."
      ]
    },
    {
      "cell_type": "code",
      "execution_count": 3,
      "metadata": {
        "collapsed": true,
        "id": "mOG06vbU-IM0",
        "jupyter": {
          "outputs_hidden": true
        }
      },
      "outputs": [],
      "source": [
        "def set_seeds(seed):\n",
        "    torch.backends.cudnn.benchmark = False\n",
        "    torch.backends.cudnn.determinictic = True\n",
        "    torch.cuda.manual_seed_all(seed)\n",
        "    np.random.seed(seed)\n",
        "    torch.manual_seed(seed)\n",
        "    random.seed(seed)\n",
        "set_seeds(42)"
      ]
    },
    {
      "cell_type": "markdown",
      "metadata": {
        "id": "0rRdAkvlrZBW"
      },
      "source": [
        "PyTorch offers domain-specific libraries such as <b>TorchText, TorchVision, and TorchAudio,</b> all of which include datasets. For this lab, we will be using a TorchVision dataset. Load one of the prebuilt datasets from pytorch repository. Currently, we are not using any transform (manipulation) on input data. We are just converting each image to tensor.\n"
      ]
    },
    {
      "cell_type": "code",
      "execution_count": 4,
      "metadata": {
        "id": "XJ3EHXcWdU1c",
        "colab": {
          "base_uri": "https://localhost:8080/"
        },
        "outputId": "74ecc29d-9b08-4be4-8093-1965e1bb2d26"
      },
      "outputs": [
        {
          "output_type": "stream",
          "name": "stdout",
          "text": [
            "Downloading http://yann.lecun.com/exdb/mnist/train-images-idx3-ubyte.gz\n",
            "Failed to download (trying next):\n",
            "HTTP Error 403: Forbidden\n",
            "\n",
            "Downloading https://ossci-datasets.s3.amazonaws.com/mnist/train-images-idx3-ubyte.gz\n",
            "Downloading https://ossci-datasets.s3.amazonaws.com/mnist/train-images-idx3-ubyte.gz to data/MNIST/raw/train-images-idx3-ubyte.gz\n"
          ]
        },
        {
          "output_type": "stream",
          "name": "stderr",
          "text": [
            "100%|██████████| 9912422/9912422 [00:00<00:00, 17633436.60it/s]\n"
          ]
        },
        {
          "output_type": "stream",
          "name": "stdout",
          "text": [
            "Extracting data/MNIST/raw/train-images-idx3-ubyte.gz to data/MNIST/raw\n",
            "\n",
            "Downloading http://yann.lecun.com/exdb/mnist/train-labels-idx1-ubyte.gz\n",
            "Failed to download (trying next):\n",
            "HTTP Error 403: Forbidden\n",
            "\n",
            "Downloading https://ossci-datasets.s3.amazonaws.com/mnist/train-labels-idx1-ubyte.gz\n",
            "Downloading https://ossci-datasets.s3.amazonaws.com/mnist/train-labels-idx1-ubyte.gz to data/MNIST/raw/train-labels-idx1-ubyte.gz\n"
          ]
        },
        {
          "output_type": "stream",
          "name": "stderr",
          "text": [
            "100%|██████████| 28881/28881 [00:00<00:00, 484647.46it/s]\n"
          ]
        },
        {
          "output_type": "stream",
          "name": "stdout",
          "text": [
            "Extracting data/MNIST/raw/train-labels-idx1-ubyte.gz to data/MNIST/raw\n",
            "\n",
            "Downloading http://yann.lecun.com/exdb/mnist/t10k-images-idx3-ubyte.gz\n",
            "Failed to download (trying next):\n",
            "HTTP Error 403: Forbidden\n",
            "\n",
            "Downloading https://ossci-datasets.s3.amazonaws.com/mnist/t10k-images-idx3-ubyte.gz\n",
            "Downloading https://ossci-datasets.s3.amazonaws.com/mnist/t10k-images-idx3-ubyte.gz to data/MNIST/raw/t10k-images-idx3-ubyte.gz\n"
          ]
        },
        {
          "output_type": "stream",
          "name": "stderr",
          "text": [
            "100%|██████████| 1648877/1648877 [00:01<00:00, 987489.05it/s] \n"
          ]
        },
        {
          "output_type": "stream",
          "name": "stdout",
          "text": [
            "Extracting data/MNIST/raw/t10k-images-idx3-ubyte.gz to data/MNIST/raw\n",
            "\n",
            "Downloading http://yann.lecun.com/exdb/mnist/t10k-labels-idx1-ubyte.gz\n",
            "Failed to download (trying next):\n",
            "HTTP Error 403: Forbidden\n",
            "\n",
            "Downloading https://ossci-datasets.s3.amazonaws.com/mnist/t10k-labels-idx1-ubyte.gz\n",
            "Downloading https://ossci-datasets.s3.amazonaws.com/mnist/t10k-labels-idx1-ubyte.gz to data/MNIST/raw/t10k-labels-idx1-ubyte.gz\n"
          ]
        },
        {
          "output_type": "stream",
          "name": "stderr",
          "text": [
            "100%|██████████| 4542/4542 [00:00<00:00, 3351016.49it/s]"
          ]
        },
        {
          "output_type": "stream",
          "name": "stdout",
          "text": [
            "Extracting data/MNIST/raw/t10k-labels-idx1-ubyte.gz to data/MNIST/raw\n",
            "\n"
          ]
        },
        {
          "output_type": "stream",
          "name": "stderr",
          "text": [
            "\n"
          ]
        }
      ],
      "source": [
        "# Download train data from open datasets.\n",
        "training_data = datasets.MNIST(\n",
        "    root=\"data\",\n",
        "    train=True,\n",
        "    download=True,\n",
        "    transform=ToTensor(),\n",
        ")\n",
        "\n",
        "# Download test data from open datasets.\n",
        "test_data = datasets.MNIST(\n",
        "    root=\"data\",\n",
        "    train=False,\n",
        "    download=True,\n",
        "    transform=ToTensor(),\n",
        ")"
      ]
    },
    {
      "cell_type": "markdown",
      "metadata": {
        "id": "IVkvzCgsrv4J"
      },
      "source": [
        "Visualise some of the input images."
      ]
    },
    {
      "cell_type": "code",
      "execution_count": 5,
      "metadata": {
        "id": "WtSrzX_RoC4M",
        "colab": {
          "base_uri": "https://localhost:8080/",
          "height": 675
        },
        "outputId": "42edb5c1-64b8-4d4e-87c7-575e7326aad4"
      },
      "outputs": [
        {
          "output_type": "display_data",
          "data": {
            "text/plain": [
              "<Figure size 800x800 with 9 Axes>"
            ],
            "image/png": "[encoded data removed]"
          },
          "metadata": {}
        }
      ],
      "source": [
        "labels_map = {\n",
        "    0: \"zero\",\n",
        "    1: \"one\",\n",
        "    2: \"two\",\n",
        "    3: \"three\",\n",
        "    4: \"four\",\n",
        "    5: \"five\",\n",
        "    6: \"six\",\n",
        "    7: \"seven\",\n",
        "    8: \"eight\",\n",
        "    9: \"nine\",\n",
        "}\n",
        "\n",
        "figure = plt.figure(figsize=(8, 8))\n",
        "cols, rows = 3, 3\n",
        "for i in range(1, cols * rows + 1):  # (3 x 3 + 1 = 10)\n",
        "    sample_idx = torch.randint(len(training_data), size=(1,)).item()  # randomly pick indices from the training data\n",
        "    img, label = training_data[sample_idx]                            # Read the images using their indices.\n",
        "    figure.add_subplot(rows, cols, i)\n",
        "    plt.title(labels_map[label])\n",
        "    plt.axis(\"off\")\n",
        "    plt.imshow(img.squeeze(), cmap=\"gray\")\n",
        "plt.show()"
      ]
    },
    {
      "cell_type": "markdown",
      "metadata": {
        "id": "Ab2BgCNEsXrF"
      },
      "source": [
        "Check the size and shape of training and validation data."
      ]
    },
    {
      "cell_type": "code",
      "execution_count": 6,
      "metadata": {
        "id": "gM7M6-SUtQqT",
        "colab": {
          "base_uri": "https://localhost:8080/"
        },
        "outputId": "580ab36c-a32c-40cb-bf9d-86f02f52765b"
      },
      "outputs": [
        {
          "output_type": "stream",
          "name": "stdout",
          "text": [
            "Training data size: 60000 samples\n",
            "Test data size: 10000 samples\n"
          ]
        }
      ],
      "source": [
        "# Visualize the size of the datasets\n",
        "\n",
        "print(f\"Training data size: {len(training_data)} samples\")\n",
        "print(f\"Test data size: {len(test_data)} samples\")"
      ]
    },
    {
      "cell_type": "code",
      "source": [
        "# Visualize the shape of a single image and its label\n",
        "\n",
        "train_image, train_label = training_data[0]  # Get the first training sample\n",
        "test_image, test_label = test_data[0]        # Get the first test sample\n",
        "\n",
        "print(f\"Shape of a training image: {train_image.shape}\")  # (1, 28, 28) - 1 channel, 28x28 pixels\n",
        "print(f\"Shape of a test image: {test_image.shape}\")\n",
        "print(f\"Training label: {train_label}\")\n",
        "print(f\"Test label: {test_label}\")"
      ],
      "metadata": {
        "id": "dlLpNuDVwMTi",
        "colab": {
          "base_uri": "https://localhost:8080/"
        },
        "outputId": "4e364852-f193-4689-da96-2dd1ef0654af"
      },
      "execution_count": 7,
      "outputs": [
        {
          "output_type": "stream",
          "name": "stdout",
          "text": [
            "Shape of a training image: torch.Size([1, 28, 28])\n",
            "Shape of a test image: torch.Size([1, 28, 28])\n",
            "Training label: 5\n",
            "Test label: 7\n"
          ]
        }
      ]
    },
    {
      "cell_type": "markdown",
      "metadata": {
        "id": "SOnCrvfiOwQ3"
      },
      "source": [
        "The shape of the training set is (6000,2). This means that we have 6000 thousand samples with 2 entities. The first entity is the image and the second entity is its label. Forexample:\n",
        "\n",
        "**training_data[0][0]** is the first image of training set\n",
        "\n",
        "**training_data[0][1]** is the label of the first image in the training set"
      ]
    },
    {
      "cell_type": "markdown",
      "metadata": {
        "id": "op8bXLMWsWZW"
      },
      "source": [
        "Now pass the Dataset as an argument to DataLoader. This wraps an iterable over our dataset, and supports automatic batching, sampling, shuffling and multiprocess data loading. Here we define a batch size of 64, i.e. each element in the dataloader iterable will return a batch of 64 features and labels."
      ]
    },
    {
      "cell_type": "code",
      "execution_count": 8,
      "metadata": {
        "id": "PBHnky5-deQT",
        "colab": {
          "base_uri": "https://localhost:8080/"
        },
        "outputId": "3c2324fe-7b58-4793-bdb3-6b95053c6fcf"
      },
      "outputs": [
        {
          "output_type": "stream",
          "name": "stdout",
          "text": [
            "Shape of X [N, C, H, W]: torch.Size([64, 1, 28, 28])\n",
            "Shape of y: torch.Size([64]) torch.int64\n"
          ]
        }
      ],
      "source": [
        "batch_size = 64\n",
        "\n",
        "# Create data loaders.\n",
        "train_dataloader = DataLoader(training_data, batch_size=batch_size)\n",
        "test_dataloader = DataLoader(test_data, batch_size=batch_size)\n",
        "\n",
        "for X, y in test_dataloader:\n",
        "    print(f\"Shape of X [N, C, H, W]: {X.shape}\") #[batch_size, channels, height, width]\n",
        "    print(f\"Shape of y: {y.shape} {y.dtype}\")\n",
        "    break"
      ]
    },
    {
      "cell_type": "markdown",
      "metadata": {
        "id": "dQ-D7Ky7tbIJ"
      },
      "source": [
        "To define a neural network in PyTorch, we create a class that inherits from nn.Module. We define the layers of the network in the __init__ function and specify how data will pass through the network in the forward function. To accelerate operations in the neural network, we move it to the GPU if available."
      ]
    },
    {
      "cell_type": "code",
      "execution_count": 9,
      "metadata": {
        "id": "A4DenYqBdtsb",
        "colab": {
          "base_uri": "https://localhost:8080/"
        },
        "outputId": "3b6c34cc-09b3-4f11-89a2-5d9da24116b0"
      },
      "outputs": [
        {
          "output_type": "stream",
          "name": "stdout",
          "text": [
            "NeuralNetwork(\n",
            "  (flatten): Flatten(start_dim=1, end_dim=-1)\n",
            "  (linear_relu_stack): Sequential(\n",
            "    (0): Linear(in_features=784, out_features=128, bias=True)\n",
            "    (1): ReLU()\n",
            "    (2): Linear(in_features=128, out_features=128, bias=True)\n",
            "    (3): ReLU()\n",
            "    (4): Linear(in_features=128, out_features=10, bias=True)\n",
            "  )\n",
            ")\n"
          ]
        }
      ],
      "source": [
        "# Define model\n",
        "class NeuralNetwork(nn.Module):\n",
        "    def __init__(self):\n",
        "        super(NeuralNetwork, self).__init__()  # calls the __init__() method of nn.Module class\n",
        "        self.flatten = nn.Flatten()\n",
        "        self.linear_relu_stack = nn.Sequential(\n",
        "            nn.Linear(28*28, 128),                    # replace 128 with 256 and then 512\n",
        "            nn.ReLU(),\n",
        "            nn.Linear(128, 128),                      # replace 128 with 256 and then 512\n",
        "            nn.ReLU(),\n",
        "            nn.Linear(128, 10)                        # replace 128 with 256 and then 512\n",
        "        )\n",
        "\n",
        "    def forward(self, x):\n",
        "        x = self.flatten(x)\n",
        "        logits = self.linear_relu_stack(x)\n",
        "        return logits\n",
        "\n",
        "model = NeuralNetwork().to(device)\n",
        "print(model)"
      ]
    },
    {
      "cell_type": "markdown",
      "metadata": {
        "id": "a2Qg9UFhtoz9"
      },
      "source": [
        "**Q1: You may change the width of each layer from 128 to 256 and 512 and observe the difference in network performance.**\n",
        "\n",
        "**Try adding and removing layers. Keeping all other setup the same, how does the network behave with the change in depth (number of layers) and width (size of each layer)?**\n"
      ]
    },
    {
      "cell_type": "markdown",
      "source": [
        "**Answer**\n",
        "\n",
        "When experimenting with changes in the network's width (number of neurons per layer) and depth (number of layers), the behavior of the network can be summarized as follows:\n",
        "\n",
        "- **Effect of Changing Width**: Increasing the width of each layer, such as from 128 neurons to 256 or 512, allows the model to capture more complex patterns since there are more parameters (neurons) to learn from the data. However, wider layers also increase computational complexity, and if the width becomes too large relative to the dataset, the model may risk overfitting.\n",
        "\n",
        "- **Effect of Changing Depth**: Adding more layers (increasing depth) enables the model to capture more hierarchical and complex features in the data. However, too many layers can make the model harder to train, lead to overfitting, and increase the risk of vanishing gradients. On the other hand, reducing the depth might result in underfitting, as the model lacks sufficient capacity to capture the complexity of the dataset.\n",
        "\n",
        "In conclusion, increasing both the depth and width can improve the model's performance but needs to be balanced to avoid overfitting or underfitting. Additionally, the choice of optimizer and learning rate significantly impacts how well and how fast the network learns."
      ],
      "metadata": {
        "id": "SD71Q46bjbSI"
      }
    },
    {
      "cell_type": "markdown",
      "metadata": {
        "id": "Cg5Z5r2TXSGz"
      },
      "source": [
        "Now define the loss function and set up optimiser."
      ]
    },
    {
      "cell_type": "code",
      "execution_count": 10,
      "metadata": {
        "collapsed": true,
        "id": "_cJDd0k0dz6F",
        "jupyter": {
          "outputs_hidden": true
        }
      },
      "outputs": [],
      "source": [
        "loss_fn = nn.CrossEntropyLoss()\n",
        "\n",
        "optimizer = torch.optim.Adam(model.parameters(), lr=1e-3 )  # lr ~ learning rate"
      ]
    },
    {
      "cell_type": "markdown",
      "metadata": {
        "id": "yH0-ep8JuIxq"
      },
      "source": [
        "**Q2: Try changing the learning rate from 1e-3 to 1e-4. What do you observe?**\n",
        "\n",
        "**Try the Adam optimizer instead of SGD. How the learning process changes?**\n",
        "\n"
      ]
    },
    {
      "cell_type": "markdown",
      "source": [
        "**Answer**\n",
        "\n",
        "When changing the learning rate from 1e-3 to 1e-4, the model's performance is significantly affected.\n",
        "\n",
        "- **Setup 1 (SGD, learning rate 1e-3)**: The model starts with low accuracy but gradually improves with each epoch, `reaching 69.9% accuracy after 5 epochs`. This shows that with a moderate learning rate, the model is able to learn and improve over time.\n",
        "\n",
        "- **Setup 2 (SGD, learning rate 1e-4)**: The model struggles to learn effectively, with very slow improvement in accuracy, `reaching only 15.8% after 5 epochs`. The lower learning rate causes the model to update its parameters too slowly, making it difficult for the network to converge and learn useful patterns.\n",
        "\n",
        "When switching to the Adam optimizer:\n",
        "\n",
        "- **Setup 3 (Adam, learning rate 1e-3)**: The learning process is much faster and more effective, with the model quickly achieving high accuracy (`94.7% in the first epoch and 97.5% by the fifth`). Adam is more adaptive and efficient, adjusting the learning rate automatically for each parameter, which helps the model learn faster and more accurately.\n",
        "\n",
        "- **Setup 4 (Adam, learning rate 1e-4)**: Although the learning rate is smaller, the model still performs well, `reaching 93.8% accuracy after 5 epochs`. This shows that Adam is more resilient to lower learning rates, allowing the model to learn effectively even with smaller updates.\n",
        "\n",
        "In summary:\n",
        "\n",
        "- Lowering the learning rate (1e-4) slows down the learning process, especially with SGD.\n",
        "\n",
        "- Using the Adam optimizer significantly improves learning speed and performance compared to SGD, even with lower learning rates."
      ],
      "metadata": {
        "id": "R2T_hapolJdK"
      }
    },
    {
      "cell_type": "markdown",
      "metadata": {
        "id": "MiTDkSYyXEic"
      },
      "source": [
        "Define train function."
      ]
    },
    {
      "cell_type": "code",
      "execution_count": 11,
      "metadata": {
        "collapsed": true,
        "id": "wUaNY59Td46x",
        "jupyter": {
          "outputs_hidden": true
        }
      },
      "outputs": [],
      "source": [
        "def train(dataloader, model, loss_fn, optimizer):\n",
        "    size = len(dataloader.dataset)\n",
        "    model.train()\n",
        "    running_loss = 0                            # accumuate loss of each input sample\n",
        "    for batch, (X, y) in enumerate(dataloader):\n",
        "        X, y = X.to(device), y.to(device)       # assign input samples to the available device (CPU or GPU) for computation.\n",
        "\n",
        "        # Compute prediction error\n",
        "        pred = model(X)\n",
        "        loss = loss_fn(pred, y)\n",
        "\n",
        "        # Backpropagation\n",
        "        optimizer.zero_grad()  # set the gradients to zero to avoid gradient accumuation. Gradient Accumulation is useful in some cases, like in training RNN.\n",
        "        loss.backward()\n",
        "        optimizer.step()\n",
        "        running_loss += loss.item()\n",
        "        if batch % 100 == 0:\n",
        "            loss, current = loss.item(), batch * len(X)\n",
        "            #print(f\"training loss: {loss:>7f}  [{current:>5d}/{size:>5d}]\")\n",
        "\n",
        "    return running_loss/len(dataloader)"
      ]
    },
    {
      "cell_type": "markdown",
      "metadata": {
        "id": "5rzoSK6-wZmn"
      },
      "source": [
        "Define evaluation function."
      ]
    },
    {
      "cell_type": "code",
      "execution_count": 12,
      "metadata": {
        "collapsed": true,
        "id": "I5DNOqJTd-Tl",
        "jupyter": {
          "outputs_hidden": true
        }
      },
      "outputs": [],
      "source": [
        "def test(dataloader, model, loss_fn):\n",
        "    size = len(dataloader.dataset)\n",
        "    num_batches = len(dataloader)\n",
        "    model.eval()\n",
        "    test_loss, correct = 0, 0\n",
        "    with torch.no_grad():         # No gradients need to be calculated for evaluation. Just the forward pass.\n",
        "        for X, y in dataloader:\n",
        "            X, y = X.to(device), y.to(device)\n",
        "            pred = model(X)\n",
        "            test_loss += loss_fn(pred, y).item()\n",
        "            correct += (pred.argmax(1) == y).type(torch.float).sum().item()\n",
        "    test_loss /= num_batches\n",
        "    correct /= size               # Normalise correctly classified count.\n",
        "    print(f\"test loss: \\nAccuracy: {(100*correct):>0.1f}%, avg loss: {test_loss:>8f} \\n\")\n",
        "\n",
        "    return test_loss"
      ]
    },
    {
      "cell_type": "markdown",
      "metadata": {
        "id": "qqqLOBWPwz0Z"
      },
      "source": [
        "Initiate Training Process"
      ]
    },
    {
      "cell_type": "code",
      "execution_count": 13,
      "metadata": {
        "id": "4No_AhMkeEJ6",
        "colab": {
          "base_uri": "https://localhost:8080/",
          "height": 967
        },
        "outputId": "eb31268b-d4ee-4f44-f2ea-90df47b2e5af"
      },
      "outputs": [
        {
          "output_type": "stream",
          "name": "stdout",
          "text": [
            "Epoch 1\n",
            "-------------------------------\n",
            "test loss: \n",
            "Accuracy: 94.1%, avg loss: 0.184653 \n",
            "\n",
            "Epoch 2\n",
            "-------------------------------\n",
            "test loss: \n",
            "Accuracy: 95.7%, avg loss: 0.130706 \n",
            "\n",
            "Epoch 3\n",
            "-------------------------------\n",
            "test loss: \n",
            "Accuracy: 96.7%, avg loss: 0.105729 \n",
            "\n",
            "Epoch 4\n",
            "-------------------------------\n",
            "test loss: \n",
            "Accuracy: 96.9%, avg loss: 0.099708 \n",
            "\n",
            "Epoch 5\n",
            "-------------------------------\n",
            "test loss: \n",
            "Accuracy: 96.8%, avg loss: 0.108831 \n",
            "\n",
            "Done!\n"
          ]
        },
        {
          "output_type": "display_data",
          "data": {
            "text/plain": [
              "<Figure size 1000x500 with 1 Axes>"
            ],
            "image/png": "[encoded data removed]"
          },
          "metadata": {}
        }
      ],
      "source": [
        "epochs = 5\n",
        "train_losses = []\n",
        "test_losses = []\n",
        "\n",
        "for t in range(epochs):\n",
        "    print(f\"Epoch {t+1}\\n-------------------------------\")\n",
        "\n",
        "    train_loss = train(train_dataloader, model, loss_fn, optimizer)\n",
        "    train_losses.append(train_loss)\n",
        "\n",
        "    test_loss = test(test_dataloader, model, loss_fn)\n",
        "    test_losses.append(test_loss)\n",
        "\n",
        "print(\"Done!\")\n",
        "\n",
        "# Plot training and validation losses.\n",
        "plt.figure(figsize=(10,5))\n",
        "plt.title(\"Training and Validation Loss\")\n",
        "plt.plot(test_losses,label=\"validation\")\n",
        "plt.plot(train_losses,label=\"training\")\n",
        "plt.xlabel(\"Epochs\")\n",
        "plt.ylabel(\"Loss\")\n",
        "plt.legend()\n",
        "plt.show()"
      ]
    },
    {
      "cell_type": "markdown",
      "metadata": {
        "id": "Occtt3Punozu"
      },
      "source": [
        "**Q3: Try 5, 10 and 50 epoch and record values for average validation loss and accuracy**"
      ]
    },
    {
      "cell_type": "markdown",
      "source": [
        "**Answer**\n",
        "\n",
        "We have tried all the combinations of different hyperparameters and models with different number of neurons. Out of all those, the best model for this dataset MNIST is mentioned below:\n",
        "\n",
        "- Model with 512 neurons\n",
        "\n",
        "**Hyperparameters**\n",
        "\n",
        "- Adam optimizer with learning rate of 1e-3"
      ],
      "metadata": {
        "id": "V523D9Ngh4_P"
      }
    },
    {
      "cell_type": "markdown",
      "metadata": {
        "id": "njBS0cJEH_IQ"
      },
      "source": [
        "**Q4: What activation function is generally used for multiclass classification? Why didn't we use an activation function at the end of our neural network that we have defined?**\n",
        "\n",
        "**Answer**\n",
        "\n",
        "For multiclass classification, the **softmax** activation function is generally used. Softmax converts the output of the neural network into a probability distribution, where each class is assigned a probability between 0 and 1, and the sum of all probabilities equals 1. This helps in determining the most likely class.\n",
        "\n",
        "In our neural network, we didn't use an activation function at the end because many loss functions, like cross-entropy loss, already apply softmax internally. Adding softmax in the last layer could result in redundant calculations. Therefore, leaving it out makes the model more efficient without affecting the results."
      ]
    },
    {
      "cell_type": "code",
      "execution_count": 14,
      "metadata": {
        "id": "lagrC_tveIKP",
        "colab": {
          "base_uri": "https://localhost:8080/"
        },
        "outputId": "36726290-3545-40fb-a84f-11e97e7dd683"
      },
      "outputs": [
        {
          "output_type": "stream",
          "name": "stdout",
          "text": [
            "Saved PyTorch Model State to model.pth\n"
          ]
        }
      ],
      "source": [
        "torch.save(model.state_dict(), \"model.pth\")\n",
        "print(\"Saved PyTorch Model State to model.pth\")"
      ]
    },
    {
      "cell_type": "markdown",
      "metadata": {
        "id": "DgWr6QqdxXQD"
      },
      "source": [
        "Perform Inferrence"
      ]
    },
    {
      "cell_type": "code",
      "execution_count": 15,
      "metadata": {
        "id": "gzDIvKlaQ3SF",
        "colab": {
          "base_uri": "https://localhost:8080/",
          "height": 465
        },
        "outputId": "920778e2-c8ac-489a-ddd2-74f697d69965"
      },
      "outputs": [
        {
          "output_type": "stream",
          "name": "stdout",
          "text": [
            "Predicted: \"four\", Actual: \"four\"\n"
          ]
        },
        {
          "output_type": "execute_result",
          "data": {
            "text/plain": [
              "<matplotlib.image.AxesImage at 0x791507396530>"
            ]
          },
          "metadata": {},
          "execution_count": 15
        },
        {
          "output_type": "display_data",
          "data": {
            "text/plain": [
              "<Figure size 640x480 with 1 Axes>"
            ],
            "image/png": "[encoded data removed]"
          },
          "metadata": {}
        }
      ],
      "source": [
        "classes = [\n",
        "    \"zero\",\n",
        "    \"one\",\n",
        "    \"two\",\n",
        "    \"three\",\n",
        "    \"four\",\n",
        "    \"five\",\n",
        "    \"six\",\n",
        "    \"seven\",\n",
        "    \"eight\",\n",
        "    \"nine\",\n",
        "]\n",
        "#classes = np.array(test_data.class_to_idx.values())\n",
        "#testimg = random.\n",
        "model.eval()\n",
        "sample_number = 300 # Keep 0 <= sample_number < 10,000\n",
        "x, y = test_data[sample_number][0], test_data[sample_number][1]\n",
        "model.to(\"cpu\")\n",
        "with torch.no_grad():                                            # no backpropagation\n",
        "    pred = model(x)\n",
        "    predicted, actual = classes[pred[0].argmax(0)], classes[y]\n",
        "    print(f'Predicted: \"{predicted}\", Actual: \"{actual}\"')\n",
        "\n",
        "img, label = test_data[sample_number]                            # Read the images using their indices.\n",
        "    #figure.add_subplot(rows, cols, i)\n",
        "plt.figure()\n",
        "plt.title(\"Predcited: \"+ predicted + \"     Actual: \" + labels_map[label])\n",
        "plt.axis(\"off\")\n",
        "plt.imshow(img.squeeze(), cmap=\"gray\")"
      ]
    },
    {
      "cell_type": "markdown",
      "metadata": {
        "id": "iZpWH-kItQqW"
      },
      "source": [
        "### **Task 2**"
      ]
    },
    {
      "cell_type": "markdown",
      "metadata": {
        "id": "T-rjQGE4tQqW"
      },
      "source": [
        "**Repeat all of above steps for Fashion MNIST dataset, apply question 1, 2 and 3 and report the accuracies.**"
      ]
    },
    {
      "cell_type": "markdown",
      "source": [
        "`We have applied the same technique that we have used to solve Task 1 and also we have noted all the accuracies and validation losses in the lab report.`"
      ],
      "metadata": {
        "id": "jqB-obKr9cRz"
      }
    },
    {
      "cell_type": "markdown",
      "source": [
        "#### Downloading fashion mnist dataset"
      ],
      "metadata": {
        "id": "ClYeSkUkTgTc"
      }
    },
    {
      "cell_type": "code",
      "execution_count": 16,
      "metadata": {
        "collapsed": true,
        "id": "I51Ia0vvNAUh",
        "jupyter": {
          "outputs_hidden": true
        },
        "colab": {
          "base_uri": "https://localhost:8080/"
        },
        "outputId": "1936b986-937f-4831-920d-79e12354d0d6"
      },
      "outputs": [
        {
          "output_type": "stream",
          "name": "stdout",
          "text": [
            "Downloading http://fashion-mnist.s3-website.eu-central-1.amazonaws.com/train-images-idx3-ubyte.gz\n",
            "Downloading http://fashion-mnist.s3-website.eu-central-1.amazonaws.com/train-images-idx3-ubyte.gz to data/FashionMNIST/raw/train-images-idx3-ubyte.gz\n"
          ]
        },
        {
          "output_type": "stream",
          "name": "stderr",
          "text": [
            "100%|██████████| 26421880/26421880 [00:01<00:00, 13297917.10it/s]\n"
          ]
        },
        {
          "output_type": "stream",
          "name": "stdout",
          "text": [
            "Extracting data/FashionMNIST/raw/train-images-idx3-ubyte.gz to data/FashionMNIST/raw\n",
            "\n",
            "Downloading http://fashion-mnist.s3-website.eu-central-1.amazonaws.com/train-labels-idx1-ubyte.gz\n",
            "Downloading http://fashion-mnist.s3-website.eu-central-1.amazonaws.com/train-labels-idx1-ubyte.gz to data/FashionMNIST/raw/train-labels-idx1-ubyte.gz\n"
          ]
        },
        {
          "output_type": "stream",
          "name": "stderr",
          "text": [
            "100%|██████████| 29515/29515 [00:00<00:00, 210359.86it/s]\n"
          ]
        },
        {
          "output_type": "stream",
          "name": "stdout",
          "text": [
            "Extracting data/FashionMNIST/raw/train-labels-idx1-ubyte.gz to data/FashionMNIST/raw\n",
            "\n",
            "Downloading http://fashion-mnist.s3-website.eu-central-1.amazonaws.com/t10k-images-idx3-ubyte.gz\n",
            "Downloading http://fashion-mnist.s3-website.eu-central-1.amazonaws.com/t10k-images-idx3-ubyte.gz to data/FashionMNIST/raw/t10k-images-idx3-ubyte.gz\n"
          ]
        },
        {
          "output_type": "stream",
          "name": "stderr",
          "text": [
            "100%|██████████| 4422102/4422102 [00:01<00:00, 3841884.00it/s]\n"
          ]
        },
        {
          "output_type": "stream",
          "name": "stdout",
          "text": [
            "Extracting data/FashionMNIST/raw/t10k-images-idx3-ubyte.gz to data/FashionMNIST/raw\n",
            "\n",
            "Downloading http://fashion-mnist.s3-website.eu-central-1.amazonaws.com/t10k-labels-idx1-ubyte.gz\n",
            "Downloading http://fashion-mnist.s3-website.eu-central-1.amazonaws.com/t10k-labels-idx1-ubyte.gz to data/FashionMNIST/raw/t10k-labels-idx1-ubyte.gz\n"
          ]
        },
        {
          "output_type": "stream",
          "name": "stderr",
          "text": [
            "100%|██████████| 5148/5148 [00:00<00:00, 5945010.19it/s]"
          ]
        },
        {
          "output_type": "stream",
          "name": "stdout",
          "text": [
            "Extracting data/FashionMNIST/raw/t10k-labels-idx1-ubyte.gz to data/FashionMNIST/raw\n",
            "\n"
          ]
        },
        {
          "output_type": "stream",
          "name": "stderr",
          "text": [
            "\n"
          ]
        }
      ],
      "source": [
        "# Download train data from open datasets.\n",
        "training_data = datasets.FashionMNIST(\n",
        "    root=\"data\",\n",
        "    train=True,\n",
        "    download=True,\n",
        "    transform=ToTensor(),\n",
        ")\n",
        "\n",
        "# Download test data from open datasets.\n",
        "test_data = datasets.FashionMNIST(\n",
        "    root=\"data\",\n",
        "    train=False,\n",
        "    download=True,\n",
        "    transform=ToTensor(),\n",
        ")"
      ]
    },
    {
      "cell_type": "markdown",
      "source": [
        "#### Visualize some of the input images"
      ],
      "metadata": {
        "id": "0rKi5aQ3T2iI"
      }
    },
    {
      "cell_type": "code",
      "source": [
        "labels_map = {\n",
        "    0: \"t-shirt\",\n",
        "    1: \"trousers\",\n",
        "    2: \"pullover\",\n",
        "    3: \"dress\",\n",
        "    4: \"coat\",\n",
        "    5: \"sandal\",\n",
        "    6: \"shirt\",\n",
        "    7: \"sneaker\",\n",
        "    8: \"bag\",\n",
        "    9: \"ankle boot\",\n",
        "}\n",
        "\n",
        "figure = plt.figure(figsize=(8, 8))\n",
        "cols, rows = 3, 3\n",
        "for i in range(1, cols * rows + 1):  # (3 x 3 + 1 = 10)\n",
        "    sample_idx = torch.randint(len(training_data), size=(1,)).item()  # randomly pick indices from the training data\n",
        "    img, label = training_data[sample_idx]                            # Read the images using their indices.\n",
        "    figure.add_subplot(rows, cols, i)\n",
        "    plt.title(labels_map[label])\n",
        "    plt.axis(\"off\")\n",
        "    plt.imshow(img.squeeze(), cmap=\"gray\")\n",
        "plt.show()"
      ],
      "metadata": {
        "colab": {
          "base_uri": "https://localhost:8080/",
          "height": 675
        },
        "id": "xN7x7RLfT_BY",
        "outputId": "db8dfe3b-849b-4f87-a994-a7def366b6c0"
      },
      "execution_count": 17,
      "outputs": [
        {
          "output_type": "display_data",
          "data": {
            "text/plain": [
              "<Figure size 800x800 with 9 Axes>"
            ],
            "image/png": "[encoded data removed]"
          },
          "metadata": {}
        }
      ]
    },
    {
      "cell_type": "markdown",
      "source": [
        "#### Check the size and shape of training and validation data"
      ],
      "metadata": {
        "id": "eorZCuuDU8L9"
      }
    },
    {
      "cell_type": "code",
      "source": [
        "# Visualize the size of the datasets\n",
        "\n",
        "print(f\"Training data size: {len(training_data)} samples\")\n",
        "print(f\"Test data size: {len(test_data)} samples\")"
      ],
      "metadata": {
        "colab": {
          "base_uri": "https://localhost:8080/"
        },
        "id": "uM6F2DqwU-2m",
        "outputId": "28af7078-8964-4aac-e485-09c0437224ff"
      },
      "execution_count": 18,
      "outputs": [
        {
          "output_type": "stream",
          "name": "stdout",
          "text": [
            "Training data size: 60000 samples\n",
            "Test data size: 10000 samples\n"
          ]
        }
      ]
    },
    {
      "cell_type": "code",
      "source": [
        "# Visualize the shape of a single image and its label\n",
        "\n",
        "train_image, train_label = training_data[0]  # Get the first training sample\n",
        "test_image, test_label = test_data[0]        # Get the first test sample\n",
        "\n",
        "print(f\"Shape of a training image: {train_image.shape}\")  # (1, 28, 28) - 1 channel, 28x28 pixels\n",
        "print(f\"Shape of a test image: {test_image.shape}\")\n",
        "print(f\"Training label: {train_label}\")\n",
        "print(f\"Test label: {test_label}\")"
      ],
      "metadata": {
        "colab": {
          "base_uri": "https://localhost:8080/"
        },
        "id": "icmyRVYBVApF",
        "outputId": "ba14e2e2-c221-45e7-a5c5-9a0f32505b77"
      },
      "execution_count": 19,
      "outputs": [
        {
          "output_type": "stream",
          "name": "stdout",
          "text": [
            "Shape of a training image: torch.Size([1, 28, 28])\n",
            "Shape of a test image: torch.Size([1, 28, 28])\n",
            "Training label: 9\n",
            "Test label: 9\n"
          ]
        }
      ]
    },
    {
      "cell_type": "code",
      "source": [
        "batch_size = 64\n",
        "\n",
        "# Create data loaders.\n",
        "train_dataloader = DataLoader(training_data, batch_size=batch_size)\n",
        "test_dataloader = DataLoader(test_data, batch_size=batch_size)\n",
        "\n",
        "for X, y in test_dataloader:\n",
        "    print(f\"Shape of X [N, C, H, W]: {X.shape}\") #[batch_size, channels, height, width]\n",
        "    print(f\"Shape of y: {y.shape} {y.dtype}\")\n",
        "    break"
      ],
      "metadata": {
        "colab": {
          "base_uri": "https://localhost:8080/"
        },
        "id": "JlTM9ubdVMne",
        "outputId": "bff47c35-8081-4fcf-baaf-e35950679b7b"
      },
      "execution_count": 20,
      "outputs": [
        {
          "output_type": "stream",
          "name": "stdout",
          "text": [
            "Shape of X [N, C, H, W]: torch.Size([64, 1, 28, 28])\n",
            "Shape of y: torch.Size([64]) torch.int64\n"
          ]
        }
      ]
    },
    {
      "cell_type": "markdown",
      "source": [
        "#### Define model"
      ],
      "metadata": {
        "id": "fAcvzo0SVRXz"
      }
    },
    {
      "cell_type": "code",
      "source": [
        "class NeuralNetwork(nn.Module):\n",
        "    def __init__(self):\n",
        "        super(NeuralNetwork, self).__init__()  # calls the __init__() method of nn.Module class\n",
        "        self.flatten = nn.Flatten()\n",
        "        self.linear_relu_stack = nn.Sequential(\n",
        "            nn.Linear(28*28, 512),\n",
        "            nn.ReLU(),\n",
        "            nn.Linear(512, 512),\n",
        "            nn.ReLU(),\n",
        "            nn.Linear(512, 10)\n",
        "        )\n",
        "\n",
        "    def forward(self, x):\n",
        "        x = self.flatten(x)\n",
        "        logits = self.linear_relu_stack(x)\n",
        "        return logits\n",
        "\n",
        "model = NeuralNetwork().to(device)\n",
        "print(model)"
      ],
      "metadata": {
        "colab": {
          "base_uri": "https://localhost:8080/"
        },
        "id": "3l8jEwLBVMc5",
        "outputId": "174d4f10-e7fa-434a-85f0-a299f6c5a4a2"
      },
      "execution_count": 64,
      "outputs": [
        {
          "output_type": "stream",
          "name": "stdout",
          "text": [
            "NeuralNetwork(\n",
            "  (flatten): Flatten(start_dim=1, end_dim=-1)\n",
            "  (linear_relu_stack): Sequential(\n",
            "    (0): Linear(in_features=784, out_features=512, bias=True)\n",
            "    (1): ReLU()\n",
            "    (2): Linear(in_features=512, out_features=512, bias=True)\n",
            "    (3): ReLU()\n",
            "    (4): Linear(in_features=512, out_features=10, bias=True)\n",
            "  )\n",
            ")\n"
          ]
        }
      ]
    },
    {
      "cell_type": "markdown",
      "source": [
        "**Q1: You may change the width of each layer from 128 to 256 and 512 and observe the difference in network performance.**\n",
        "\n",
        "**Try adding and removing layers. Keeping all other setup the same, how does the network behave with the change in depth (number of layers) and width (size of each layer)?**"
      ],
      "metadata": {
        "id": "VOqHiqVwVe23"
      }
    },
    {
      "cell_type": "markdown",
      "source": [
        "**Answer**\n",
        "\n",
        "When experimenting with changes in the network's width (number of neurons per layer) and depth (number of layers), the behavior of the network can be summarized as follows:\n",
        "\n",
        "- **Effect of Changing Width**: Increasing the width of each layer, such as from 128 neurons to 256 or 512, allows the model to capture more complex patterns since there are more parameters (neurons) to learn from the data. However, wider layers also increase computational complexity, and if the width becomes too large relative to the dataset, the model may risk overfitting.\n",
        "\n",
        "- **Effect of Changing Depth**: Adding more layers (increasing depth) enables the model to capture more hierarchical and complex features in the data. However, too many layers can make the model harder to train, lead to overfitting, and increase the risk of vanishing gradients. On the other hand, reducing the depth might result in underfitting, as the model lacks sufficient capacity to capture the complexity of the dataset.\n",
        "\n",
        "In conclusion, increasing both the depth and width can improve the model's performance but needs to be balanced to avoid overfitting or underfitting. Additionally, the choice of optimizer and learning rate significantly impacts how well and how fast the network learns."
      ],
      "metadata": {
        "id": "nAwUw7At96y5"
      }
    },
    {
      "cell_type": "code",
      "source": [
        "loss_fn = nn.CrossEntropyLoss()\n",
        "\n",
        "optimizer = torch.optim.SGD(model.parameters(), lr=1e-3 )  # lr ~ learning rate"
      ],
      "metadata": {
        "id": "7UTIkZQ4VgZm"
      },
      "execution_count": 65,
      "outputs": []
    },
    {
      "cell_type": "markdown",
      "source": [
        "**Q2: Try changing the learning rate from 1e-3 to 1e-4. What do you observe?**\n",
        "\n",
        "**Try the Adam optimizer instead of SGD. How the learning process changes?**\n",
        "\n"
      ],
      "metadata": {
        "id": "VtCXsbULViB3"
      }
    },
    {
      "cell_type": "markdown",
      "source": [
        "**Answer**\n",
        "\n",
        "When changing the learning rate from 1e-3 to 1e-4, the model's performance is significantly affected.\n",
        "\n",
        "- **Setup 1 (SGD, learning rate 1e-3)**: The model starts with low accuracy but gradually improves with each epoch, `reaching 60.1% accuracy after 5 epochs`. This shows that with a moderate learning rate, the model is able to learn and improve over time.\n",
        "\n",
        "- **Setup 2 (SGD, learning rate 1e-4)**: The model struggles to learn effectively, with very slow improvement in accuracy, `reaching only 19.1% after 5 epochs`. The lower learning rate causes the model to update its parameters too slowly, making it difficult for the network to converge and learn useful patterns.\n",
        "\n",
        "When switching to the Adam optimizer:\n",
        "\n",
        "- **Setup 3 (Adam, learning rate 1e-3)**: The learning process is much faster and more effective, with the model quickly achieving high accuracy (`87.0% by the fifth epoch`). Adam is more adaptive and efficient, adjusting the learning rate automatically for each parameter, which helps the model learn faster and more accurately.\n",
        "\n",
        "- **Setup 4 (Adam, learning rate 1e-4)**: Although the learning rate is smaller, the model still performs well, `reaching 84.4% accuracy after 5 epochs`. This shows that Adam is more resilient to lower learning rates, allowing the model to learn effectively even with smaller updates.\n",
        "\n",
        "In summary:\n",
        "\n",
        "- Lowering the learning rate (1e-4) slows down the learning process, especially with SGD.\n",
        "\n",
        "- Using the Adam optimizer significantly improves learning speed and performance compared to SGD, even with lower learning rates."
      ],
      "metadata": {
        "id": "LBBbVzYE99_M"
      }
    },
    {
      "cell_type": "markdown",
      "source": [
        "#### Define training function"
      ],
      "metadata": {
        "id": "kbfy1KuvVjmj"
      }
    },
    {
      "cell_type": "code",
      "source": [
        "def train(dataloader, model, loss_fn, optimizer):\n",
        "    size = len(dataloader.dataset)\n",
        "    model.train()\n",
        "    running_loss = 0                            # accumuate loss of each input sample\n",
        "    for batch, (X, y) in enumerate(dataloader):\n",
        "        X, y = X.to(device), y.to(device)       # assign input samples to the available device (CPU or GPU) for computation.\n",
        "\n",
        "        # Compute prediction error\n",
        "        pred = model(X)\n",
        "        loss = loss_fn(pred, y)\n",
        "\n",
        "        # Backpropagation\n",
        "        optimizer.zero_grad()  # set the gradients to zero to avoid gradient accumuation. Gradient Accumulation is useful in some cases, like in training RNN.\n",
        "        loss.backward()\n",
        "        optimizer.step()\n",
        "        running_loss += loss.item()\n",
        "        if batch % 100 == 0:\n",
        "            loss, current = loss.item(), batch * len(X)\n",
        "            #print(f\"training loss: {loss:>7f}  [{current:>5d}/{size:>5d}]\")\n",
        "\n",
        "    return running_loss/len(dataloader)"
      ],
      "metadata": {
        "id": "RSjVy5pFVmLN"
      },
      "execution_count": 66,
      "outputs": []
    },
    {
      "cell_type": "markdown",
      "source": [
        "#### Define evaluation function"
      ],
      "metadata": {
        "id": "f64ySixdVnV8"
      }
    },
    {
      "cell_type": "code",
      "source": [
        "def test(dataloader, model, loss_fn):\n",
        "    size = len(dataloader.dataset)\n",
        "    num_batches = len(dataloader)\n",
        "    model.eval()\n",
        "    test_loss, correct = 0, 0\n",
        "    with torch.no_grad():         # No gradients need to be calculated for evaluation. Just the forward pass.\n",
        "        for X, y in dataloader:\n",
        "            X, y = X.to(device), y.to(device)\n",
        "            pred = model(X)\n",
        "            test_loss += loss_fn(pred, y).item()\n",
        "            correct += (pred.argmax(1) == y).type(torch.float).sum().item()\n",
        "    test_loss /= num_batches\n",
        "    correct /= size               # Normalise correctly classified count.\n",
        "    print(f\"test loss: \\nAccuracy: {(100*correct):>0.1f}%, avg loss: {test_loss:>8f} \\n\")\n",
        "\n",
        "    return test_loss"
      ],
      "metadata": {
        "id": "EXu0KZRHVpFn"
      },
      "execution_count": 67,
      "outputs": []
    },
    {
      "cell_type": "markdown",
      "source": [
        "#### Initiate training process"
      ],
      "metadata": {
        "id": "g36nVcnlV3n3"
      }
    },
    {
      "cell_type": "code",
      "source": [
        "epochs = 10\n",
        "train_losses = []\n",
        "test_losses = []\n",
        "\n",
        "for t in range(epochs):\n",
        "    print(f\"Epoch {t+1}\\n-------------------------------\")\n",
        "\n",
        "    train_loss = train(train_dataloader, model, loss_fn, optimizer)\n",
        "    train_losses.append(train_loss)\n",
        "\n",
        "    test_loss = test(test_dataloader, model, loss_fn)\n",
        "    test_losses.append(test_loss)\n",
        "\n",
        "print(\"Done!\")\n",
        "\n",
        "# Plot training and validation losses.\n",
        "plt.figure(figsize=(10,5))\n",
        "plt.title(\"Training and Validation Loss\")\n",
        "plt.plot(test_losses,label=\"validation\")\n",
        "plt.plot(train_losses,label=\"training\")\n",
        "plt.xlabel(\"Epochs\")\n",
        "plt.ylabel(\"Loss\")\n",
        "plt.legend()\n",
        "plt.show()"
      ],
      "metadata": {
        "colab": {
          "base_uri": "https://localhost:8080/",
          "height": 1000
        },
        "id": "ieMugB4nV0gz",
        "outputId": "46f1faf6-ed0d-4e0a-8ab8-a6f13b84d0f2"
      },
      "execution_count": 68,
      "outputs": [
        {
          "output_type": "stream",
          "name": "stdout",
          "text": [
            "Epoch 1\n",
            "-------------------------------\n",
            "test loss: \n",
            "Accuracy: 49.3%, avg loss: 2.153591 \n",
            "\n",
            "Epoch 2\n",
            "-------------------------------\n",
            "test loss: \n",
            "Accuracy: 58.1%, avg loss: 1.878705 \n",
            "\n",
            "Epoch 3\n",
            "-------------------------------\n",
            "test loss: \n",
            "Accuracy: 61.0%, avg loss: 1.511871 \n",
            "\n",
            "Epoch 4\n",
            "-------------------------------\n",
            "test loss: \n",
            "Accuracy: 63.7%, avg loss: 1.250979 \n",
            "\n",
            "Epoch 5\n",
            "-------------------------------\n",
            "test loss: \n",
            "Accuracy: 65.2%, avg loss: 1.086715 \n",
            "\n",
            "Epoch 6\n",
            "-------------------------------\n",
            "test loss: \n",
            "Accuracy: 66.4%, avg loss: 0.979244 \n",
            "\n",
            "Epoch 7\n",
            "-------------------------------\n",
            "test loss: \n",
            "Accuracy: 67.3%, avg loss: 0.905502 \n",
            "\n",
            "Epoch 8\n",
            "-------------------------------\n",
            "test loss: \n",
            "Accuracy: 68.6%, avg loss: 0.852349 \n",
            "\n",
            "Epoch 9\n",
            "-------------------------------\n",
            "test loss: \n",
            "Accuracy: 69.7%, avg loss: 0.812312 \n",
            "\n",
            "Epoch 10\n",
            "-------------------------------\n",
            "test loss: \n",
            "Accuracy: 71.2%, avg loss: 0.780698 \n",
            "\n",
            "Done!\n"
          ]
        },
        {
          "output_type": "display_data",
          "data": {
            "text/plain": [
              "<Figure size 1000x500 with 1 Axes>"
            ],
            "image/png": "[encoded data removed]"
          },
          "metadata": {}
        }
      ]
    },
    {
      "cell_type": "markdown",
      "source": [
        "**Q3: Try 5, 10 and 50 epoch and record values for average validation loss and accuracy**"
      ],
      "metadata": {
        "id": "4eqBHeO0V55t"
      }
    },
    {
      "cell_type": "markdown",
      "source": [
        "**Answer**\n",
        "\n",
        "We have tried all the combinations of different hyperparameters and models with different number of neurons. Out of all those, the best model for this dataset MNIST is mentioned below:\n",
        "\n",
        "- Model with 512 neurons\n",
        "\n",
        "**Hyperparameters**\n",
        "\n",
        "- Adam optimizer with learning rate of 1e-3"
      ],
      "metadata": {
        "id": "AKl5kw5k-iPw"
      }
    },
    {
      "cell_type": "markdown",
      "source": [
        "#### Save the model"
      ],
      "metadata": {
        "id": "DVTmjf4LV-ct"
      }
    },
    {
      "cell_type": "code",
      "source": [
        "torch.save(model.state_dict(), \"model.pth\")\n",
        "print(\"Saved PyTorch Model State to model.pth\")"
      ],
      "metadata": {
        "colab": {
          "base_uri": "https://localhost:8080/"
        },
        "id": "u2PekjR0WASo",
        "outputId": "1f27146d-1203-4638-d23a-3042f2f1b74a"
      },
      "execution_count": 69,
      "outputs": [
        {
          "output_type": "stream",
          "name": "stdout",
          "text": [
            "Saved PyTorch Model State to model.pth\n"
          ]
        }
      ]
    },
    {
      "cell_type": "markdown",
      "source": [
        "#### Perform inference"
      ],
      "metadata": {
        "id": "FayNIqdfWBTr"
      }
    },
    {
      "cell_type": "code",
      "source": [
        "classes = [\n",
        "    \"t-shirt\",\n",
        "    \"trousers\",\n",
        "    \"pullover\",\n",
        "    \"dress\",\n",
        "    \"coat\",\n",
        "    \"sandal\",\n",
        "    \"shirt\",\n",
        "    \"sneaker\",\n",
        "    \"bag\",\n",
        "    \"ankle boot\",\n",
        "]\n",
        "#classes = np.array(test_data.class_to_idx.values())\n",
        "#testimg = random.\n",
        "model.eval()\n",
        "sample_number = 300 # Keep 0 <= sample_number < 10,000\n",
        "x, y = test_data[sample_number][0], test_data[sample_number][1]\n",
        "model.to(\"cpu\")\n",
        "with torch.no_grad():                                            # no backpropagation\n",
        "    pred = model(x)\n",
        "    predicted, actual = classes[pred[0].argmax(0)], classes[y]\n",
        "    print(f'Predicted: \"{predicted}\", Actual: \"{actual}\"')\n",
        "\n",
        "img, label = test_data[sample_number]                            # Read the images using their indices.\n",
        "    #figure.add_subplot(rows, cols, i)\n",
        "plt.figure()\n",
        "plt.title(\"Predcited: \"+ predicted + \"     Actual: \" + labels_map[label])\n",
        "plt.axis(\"off\")\n",
        "plt.imshow(img.squeeze(), cmap=\"gray\")"
      ],
      "metadata": {
        "colab": {
          "base_uri": "https://localhost:8080/",
          "height": 465
        },
        "id": "rY1gPYbYWCu4",
        "outputId": "52494783-9d4e-42fd-efa8-ae239823dc98"
      },
      "execution_count": 70,
      "outputs": [
        {
          "output_type": "stream",
          "name": "stdout",
          "text": [
            "Predicted: \"dress\", Actual: \"dress\"\n"
          ]
        },
        {
          "output_type": "execute_result",
          "data": {
            "text/plain": [
              "<matplotlib.image.AxesImage at 0x7915066c70a0>"
            ]
          },
          "metadata": {},
          "execution_count": 70
        },
        {
          "output_type": "display_data",
          "data": {
            "text/plain": [
              "<Figure size 640x480 with 1 Axes>"
            ],
            "image/png": "[encoded data removed]"
          },
          "metadata": {}
        }
      ]
    },
    {
      "cell_type": "markdown",
      "source": [
        "### **Submission Guidelines**"
      ],
      "metadata": {
        "id": "YeCPDKxT3PJc"
      }
    },
    {
      "cell_type": "markdown",
      "metadata": {
        "id": "RtKJqz53_q9X"
      },
      "source": [
        "> Along with jupyter file submit a lab report containing codes, screenshots of output and tables for comparision of accuracies for both task 1 and task2 (for both MNIST and Fashion MNIST datasets).\n",
        "\n",
        "> Try to achieve the best accuracies you can in classifying the images.\n",
        "\n",
        "> Remember, the more you elaborate your report, the higher the marks you will get.\n",
        "\n",
        "> This is a group lab. You are advised to make a group of 2. PS: clearly mention the name, registration number and contribution of each group member at the top."
      ]
    }
  ],
  "metadata": {
    "accelerator": "GPU",
    "colab": {
      "provenance": [],
      "toc_visible": true
    },
    "kernelspec": {
      "display_name": "Python 3 (ipykernel)",
      "language": "python",
      "name": "python3"
    },
    "language_info": {
      "codemirror_mode": {
        "name": "ipython",
        "version": 3
      },
      "file_extension": ".py",
      "mimetype": "text/x-python",
      "name": "python",
      "nbconvert_exporter": "python",
      "pygments_lexer": "ipython3",
      "version": "3.12.3"
    }
  },
  "nbformat": 4,
  "nbformat_minor": 0
}